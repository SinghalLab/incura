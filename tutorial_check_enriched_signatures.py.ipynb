{
 "cells": [
  {
   "cell_type": "markdown",
   "metadata": {},
   "source": [
    "# InCURA Tutorial - Recover gene signatures in cluster\n",
    "\n",
    "### In this tutorial we show how you can analyse your InCURA clusters for gene signatures of interest. Please note that this analysis workflow is not part of the main InCURA workflow. It is simply a suggestion and should showcase how the clusters created by InCURA can be investigated downstream. \n"
   ]
  },
  {
   "cell_type": "markdown",
   "metadata": {},
   "source": [
    "### Import of packages"
   ]
  },
  {
   "cell_type": "code",
   "execution_count": 1,
   "metadata": {},
   "outputs": [],
   "source": [
    "import numpy as np\n",
    "import pandas as pd\n",
    "from scipy.spatial.distance import pdist, squareform\n",
    "from sklearn.metrics import silhouette_score, pairwise_distances\n",
    "from sklearn.metrics import adjusted_rand_score, normalized_mutual_info_score\n",
    "from sklearn.metrics.pairwise import cosine_similarity\n",
    "from sklearn.cluster import AgglomerativeClustering\n",
    "from sklearn.cluster import KMeans\n",
    "from matplotlib import pyplot as plt\n",
    "import matplotlib.patches as mpatches\n",
    "from sklearn.manifold import TSNE\n",
    "from umap import UMAP\n",
    "import seaborn as sns\n",
    "import scanpy as sc\n",
    "import scipy.cluster.hierarchy as sch\n",
    "from scipy.stats import fisher_exact\n",
    "from statsmodels.stats.multitest import multipletests\n",
    "import re\n",
    "from datetime import datetime\n",
    "\n",
    "# Needed for some plotting\n",
    "import matplotlib.pyplot as plt\n",
    "import seaborn as sns\n",
    "\n",
    "# Create a timestamp string\n",
    "timestamp = datetime.now().strftime(\"%Y%m%d\")\n",
    "\n",
    "pd.set_option('display.max_rows', 500)\n",
    "plt.rcParams['font.family'] = 'sans-serif'\n",
    "plt.rcParams['font.sans-serif'] = 'Helvetica'\n",
    "custom_colors = ['#e8ba41', '#b1a73e', '#b93c6d', '#b4d6e7', 'grey']"
   ]
  },
  {
   "cell_type": "markdown",
   "metadata": {},
   "source": [
    "### Load data"
   ]
  },
  {
   "cell_type": "code",
   "execution_count": 2,
   "metadata": {},
   "outputs": [],
   "source": [
    "# Set path variable\n",
    "path = 'tutorial_data/'"
   ]
  },
  {
   "cell_type": "markdown",
   "metadata": {},
   "source": [
    "### Here we load the individual gene lists that contain all members of one cluster."
   ]
  },
  {
   "cell_type": "code",
   "execution_count": 3,
   "metadata": {},
   "outputs": [],
   "source": [
    "cluster0 = pd.read_csv(path + 'Count_cluster0_genes_k4.tsv', sep='\\t')\n",
    "cluster1 = pd.read_csv(path + 'Count_cluster1_genes_k4.tsv', sep='\\t')\n",
    "cluster2 = pd.read_csv(path + 'Count_cluster2_genes_k4.tsv', sep='\\t')\n",
    "cluster3 = pd.read_csv(path + 'Count_cluster3_genes_k4.tsv', sep='\\t')"
   ]
  },
  {
   "cell_type": "markdown",
   "metadata": {},
   "source": [
    "### Check for enrichment of gene signatures in the resulting InCURA clusters.\n",
    "### For demonstration we use the markers for CD8+ effector T cells from the mouse dataset by [Khan et al., 2019](https://pubmed.ncbi.nlm.nih.gov/31207603/) that we have also used as one of our case studies. "
   ]
  },
  {
   "cell_type": "markdown",
   "metadata": {},
   "source": [
    "### In this studies the authors explicitly name a collection of genes that plan an important role in T cell fate determination. In particular, they seem to drive the effector T cell state. We used this signatures to investigate whether we can recapitulate an InCURA-generated cluster of genes that is funcionally related to the effector T cell state by performing enrichment analysis of the curated gene signature. "
   ]
  },
  {
   "cell_type": "code",
   "execution_count": 4,
   "metadata": {},
   "outputs": [],
   "source": [
    "# Define marker genes for T cell subsets\n",
    "Teff_genes = ['Klrg1', 'Clnk', 'Gzma', 'Zeb2', 'Cxcr1', 'Fasl', 'Prf1', 'Ccr5', 'Havcr2', 'Ly6c2', 'Ifng', 'Gzmk', 'Nr4a1', 'Gzmb', 'Ccl3']"
   ]
  },
  {
   "cell_type": "markdown",
   "metadata": {},
   "source": [
    "### Define enrichment analysis function"
   ]
  },
  {
   "cell_type": "code",
   "execution_count": 11,
   "metadata": {},
   "outputs": [],
   "source": [
    "dfs = {'Cluster 0': cluster0, 'Cluster 1': cluster1, 'Cluster 2': cluster2, 'Cluster 3': cluster3}\n",
    "\n",
    "# List of marker genes\n",
    "marker_genes = set(Teff_genes)  # Replace with your marker genes\n",
    "all_genes = set(pd.concat(dfs.values())['symbols'])  # All genes across all clusters\n",
    "\n",
    "# Perform enrichment test for each cluster\n",
    "results = []\n",
    "for cluster, df in dfs.items():\n",
    "    cluster_genes = set(df['symbols'])  # Genes in this cluster\n",
    "\n",
    "    # Define contingency table\n",
    "    a = len(cluster_genes & marker_genes)       # Marker genes in cluster\n",
    "    b = len(cluster_genes - marker_genes)       # Non-marker genes in cluster\n",
    "    c = len(marker_genes - cluster_genes)       # Marker genes not in cluster\n",
    "    d = len(all_genes - cluster_genes - marker_genes)  # Non-marker genes not in cluster\n",
    "\n",
    "    # Fisher's exact test\n",
    "    odds_ratio, p_value = fisher_exact([[a, b], [c, d]], alternative=\"greater\")\n",
    "    \n",
    "    results.append({\"Cluster\": cluster, \"Marker Genes in Cluster\": a, \n",
    "                    \"p-value\": p_value, \"Odds Ratio\": odds_ratio})\n",
    "\n",
    "# Convert results to DataFrame\n",
    "df_Teff = pd.DataFrame(results).sort_values(\"Cluster\")\n",
    "\n",
    "# Add corrected p-values (FDR)\n",
    "pvals = df_Teff[\"p-value\"].values\n",
    "_, pvals_corrected, _, _ = multipletests(pvals, method='fdr_bh')\n",
    "\n",
    "df_Teff[\"p-adj\"] = pvals_corrected"
   ]
  },
  {
   "cell_type": "markdown",
   "metadata": {},
   "source": [
    "### The above function creates the following dataframe by testing if our marker genes are significantly more present in one of the clusters than in all the others."
   ]
  },
  {
   "cell_type": "code",
   "execution_count": 12,
   "metadata": {},
   "outputs": [
    {
     "data": {
      "text/html": [
       "<div>\n",
       "<style scoped>\n",
       "    .dataframe tbody tr th:only-of-type {\n",
       "        vertical-align: middle;\n",
       "    }\n",
       "\n",
       "    .dataframe tbody tr th {\n",
       "        vertical-align: top;\n",
       "    }\n",
       "\n",
       "    .dataframe thead th {\n",
       "        text-align: right;\n",
       "    }\n",
       "</style>\n",
       "<table border=\"1\" class=\"dataframe\">\n",
       "  <thead>\n",
       "    <tr style=\"text-align: right;\">\n",
       "      <th></th>\n",
       "      <th>Cluster</th>\n",
       "      <th>Marker Genes in Cluster</th>\n",
       "      <th>p-value</th>\n",
       "      <th>Odds Ratio</th>\n",
       "      <th>p-adj</th>\n",
       "    </tr>\n",
       "  </thead>\n",
       "  <tbody>\n",
       "    <tr>\n",
       "      <th>0</th>\n",
       "      <td>Cluster 0</td>\n",
       "      <td>1</td>\n",
       "      <td>0.996754</td>\n",
       "      <td>0.152639</td>\n",
       "      <td>1.000000</td>\n",
       "    </tr>\n",
       "    <tr>\n",
       "      <th>1</th>\n",
       "      <td>Cluster 1</td>\n",
       "      <td>0</td>\n",
       "      <td>1.000000</td>\n",
       "      <td>0.000000</td>\n",
       "      <td>1.000000</td>\n",
       "    </tr>\n",
       "    <tr>\n",
       "      <th>2</th>\n",
       "      <td>Cluster 2</td>\n",
       "      <td>11</td>\n",
       "      <td>0.004765</td>\n",
       "      <td>4.718680</td>\n",
       "      <td>0.019059</td>\n",
       "    </tr>\n",
       "    <tr>\n",
       "      <th>3</th>\n",
       "      <td>Cluster 3</td>\n",
       "      <td>1</td>\n",
       "      <td>0.914769</td>\n",
       "      <td>0.399845</td>\n",
       "      <td>1.000000</td>\n",
       "    </tr>\n",
       "  </tbody>\n",
       "</table>\n",
       "</div>"
      ],
      "text/plain": [
       "     Cluster  Marker Genes in Cluster   p-value  Odds Ratio     p-adj\n",
       "0  Cluster 0                        1  0.996754    0.152639  1.000000\n",
       "1  Cluster 1                        0  1.000000    0.000000  1.000000\n",
       "2  Cluster 2                       11  0.004765    4.718680  0.019059\n",
       "3  Cluster 3                        1  0.914769    0.399845  1.000000"
      ]
     },
     "execution_count": 12,
     "metadata": {},
     "output_type": "execute_result"
    }
   ],
   "source": [
    "df_Teff"
   ]
  },
  {
   "cell_type": "markdown",
   "metadata": {},
   "source": [
    "### Plot heatmap"
   ]
  },
  {
   "cell_type": "code",
   "execution_count": 18,
   "metadata": {},
   "outputs": [
    {
     "data": {
      "image/png": "[encoded data removed]",
      "text/plain": [
       "<Figure size 800x300 with 2 Axes>"
      ]
     },
     "metadata": {},
     "output_type": "display_data"
    }
   ],
   "source": [
    "# Tag each dataframe with the corresponding signature name\n",
    "df_Teff['Signature'] = 'Effector T Cells'\n",
    "\n",
    "# Pivot into heatmap format: rows = signature, columns = cluster\n",
    "heatmap_data = df_Teff.pivot(index='Signature', columns='Cluster', values='Odds Ratio')\n",
    "\n",
    "# Create a boolean mask for significant values (p ≤ 0.05)\n",
    "df_Teff['significant'] = df_Teff['p-adj'] <= 0.05\n",
    "\n",
    "# Create annotations with asterisks for significant cells\n",
    "annot_matrix = df_Teff.pivot(index='Signature', columns='Cluster', values='Odds Ratio').round(2).astype(str)\n",
    "sig_mask = df_Teff.pivot(index='Signature', columns='Cluster', values='significant')\n",
    "\n",
    "# Add '*' where significant\n",
    "annot_matrix = annot_matrix.where(~sig_mask, annot_matrix + ' *')\n",
    "\n",
    "# Plot heatmap\n",
    "plt.figure(figsize=(8, 3))\n",
    "ax = sns.heatmap(heatmap_data, annot=annot_matrix, fmt=\"\", cmap=\"Blues\", cbar_kws={'label': 'Odds Ratio'})\n",
    "\n",
    "# Customize colorbar font sizes\n",
    "colorbar = ax.collections[0].colorbar\n",
    "colorbar.ax.tick_params(labelsize=12)               # Tick label font size\n",
    "colorbar.ax.set_ylabel('Odds Ratio', fontsize=14)\n",
    "\n",
    "plt.title(\"Enrichment of Effector T Cell Signature\", fontsize=16)\n",
    "plt.xlabel(\"\")\n",
    "plt.ylabel(\"\")\n",
    "plt.xticks(fontsize=14)\n",
    "plt.yticks(fontsize=14)\n",
    "plt.tight_layout()\n",
    "plt.savefig(path + f'enrichment_heatmap_per_cluster_odds_{timestamp}.svg', bbox_inches='tight')\n",
    "plt.show()"
   ]
  }
 ],
 "metadata": {
  "kernelspec": {
   "display_name": "gretabench",
   "language": "python",
   "name": "python3"
  },
  "language_info": {
   "codemirror_mode": {
    "name": "ipython",
    "version": 3
   },
   "file_extension": ".py",
   "mimetype": "text/x-python",
   "name": "python",
   "nbconvert_exporter": "python",
   "pygments_lexer": "ipython3",
   "version": "3.10.14"
  }
 },
 "nbformat": 4,
 "nbformat_minor": 2
}
