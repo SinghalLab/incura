{
 "cells": [
  {
   "cell_type": "code",
   "execution_count": 1,
   "metadata": {},
   "outputs": [],
   "source": [
    "\n",
    "\n",
    "import scanpy as sc\n",
    "import decoupler as dc\n",
    "import anndata as ad\n",
    "\n",
    "# Only needed for processing\n",
    "import numpy as np\n",
    "import pandas as pd\n",
    "\n",
    "# Needed for some plotting\n",
    "import matplotlib.pyplot as plt\n",
    "\n",
    "# Import DESeq2\n",
    "from pydeseq2.dds import DeseqDataSet, DefaultInference\n",
    "from pydeseq2.ds import DeseqStats\n",
    "\n",
    "# Plotting options, change to your liking\n",
    "sc.settings.set_figure_params(dpi=200, frameon=False)\n",
    "sc.set_figure_params(dpi=200)\n",
    "sc.set_figure_params(figsize=(4, 4))\n",
    "\n"
   ]
  },
  {
   "cell_type": "markdown",
   "metadata": {},
   "source": [
    "## Human Systemic Lupus Erythematosus"
   ]
  },
  {
   "cell_type": "code",
   "execution_count": 17,
   "metadata": {},
   "outputs": [
    {
     "data": {
      "text/html": [
       "<div>\n",
       "<style scoped>\n",
       "    .dataframe tbody tr th:only-of-type {\n",
       "        vertical-align: middle;\n",
       "    }\n",
       "\n",
       "    .dataframe tbody tr th {\n",
       "        vertical-align: top;\n",
       "    }\n",
       "\n",
       "    .dataframe thead th {\n",
       "        text-align: right;\n",
       "    }\n",
       "</style>\n",
       "<table border=\"1\" class=\"dataframe\">\n",
       "  <thead>\n",
       "    <tr style=\"text-align: right;\">\n",
       "      <th></th>\n",
       "      <th>GSM3019881</th>\n",
       "      <th>GSM3019882</th>\n",
       "      <th>GSM3019883</th>\n",
       "      <th>GSM3019884</th>\n",
       "      <th>GSM3019885</th>\n",
       "      <th>GSM3019886</th>\n",
       "      <th>GSM3019887</th>\n",
       "      <th>GSM3019888</th>\n",
       "      <th>GSM3019889</th>\n",
       "      <th>GSM3019890</th>\n",
       "      <th>...</th>\n",
       "      <th>GSM3019919</th>\n",
       "      <th>GSM3019920</th>\n",
       "      <th>GSM3019921</th>\n",
       "      <th>GSM3019922</th>\n",
       "      <th>GSM3019923</th>\n",
       "      <th>GSM3019924</th>\n",
       "      <th>GSM3019925</th>\n",
       "      <th>GSM3019926</th>\n",
       "      <th>GSM3019927</th>\n",
       "      <th>GSM3019928</th>\n",
       "    </tr>\n",
       "    <tr>\n",
       "      <th>GeneID</th>\n",
       "      <th></th>\n",
       "      <th></th>\n",
       "      <th></th>\n",
       "      <th></th>\n",
       "      <th></th>\n",
       "      <th></th>\n",
       "      <th></th>\n",
       "      <th></th>\n",
       "      <th></th>\n",
       "      <th></th>\n",
       "      <th></th>\n",
       "      <th></th>\n",
       "      <th></th>\n",
       "      <th></th>\n",
       "      <th></th>\n",
       "      <th></th>\n",
       "      <th></th>\n",
       "      <th></th>\n",
       "      <th></th>\n",
       "      <th></th>\n",
       "      <th></th>\n",
       "    </tr>\n",
       "  </thead>\n",
       "  <tbody>\n",
       "    <tr>\n",
       "      <th>100287102</th>\n",
       "      <td>9</td>\n",
       "      <td>11</td>\n",
       "      <td>15</td>\n",
       "      <td>12</td>\n",
       "      <td>7</td>\n",
       "      <td>6</td>\n",
       "      <td>8</td>\n",
       "      <td>8</td>\n",
       "      <td>6</td>\n",
       "      <td>7</td>\n",
       "      <td>...</td>\n",
       "      <td>89</td>\n",
       "      <td>48</td>\n",
       "      <td>48</td>\n",
       "      <td>7</td>\n",
       "      <td>54</td>\n",
       "      <td>121</td>\n",
       "      <td>53</td>\n",
       "      <td>34</td>\n",
       "      <td>38</td>\n",
       "      <td>108</td>\n",
       "    </tr>\n",
       "    <tr>\n",
       "      <th>653635</th>\n",
       "      <td>2625</td>\n",
       "      <td>2607</td>\n",
       "      <td>3592</td>\n",
       "      <td>3095</td>\n",
       "      <td>1491</td>\n",
       "      <td>1649</td>\n",
       "      <td>1916</td>\n",
       "      <td>1750</td>\n",
       "      <td>2504</td>\n",
       "      <td>2230</td>\n",
       "      <td>...</td>\n",
       "      <td>87</td>\n",
       "      <td>42</td>\n",
       "      <td>70</td>\n",
       "      <td>23</td>\n",
       "      <td>51</td>\n",
       "      <td>114</td>\n",
       "      <td>74</td>\n",
       "      <td>66</td>\n",
       "      <td>45</td>\n",
       "      <td>112</td>\n",
       "    </tr>\n",
       "    <tr>\n",
       "      <th>102466751</th>\n",
       "      <td>52</td>\n",
       "      <td>47</td>\n",
       "      <td>85</td>\n",
       "      <td>60</td>\n",
       "      <td>46</td>\n",
       "      <td>54</td>\n",
       "      <td>57</td>\n",
       "      <td>34</td>\n",
       "      <td>86</td>\n",
       "      <td>81</td>\n",
       "      <td>...</td>\n",
       "      <td>5</td>\n",
       "      <td>3</td>\n",
       "      <td>2</td>\n",
       "      <td>1</td>\n",
       "      <td>2</td>\n",
       "      <td>3</td>\n",
       "      <td>1</td>\n",
       "      <td>3</td>\n",
       "      <td>1</td>\n",
       "      <td>5</td>\n",
       "    </tr>\n",
       "    <tr>\n",
       "      <th>107985730</th>\n",
       "      <td>0</td>\n",
       "      <td>1</td>\n",
       "      <td>0</td>\n",
       "      <td>0</td>\n",
       "      <td>1</td>\n",
       "      <td>0</td>\n",
       "      <td>1</td>\n",
       "      <td>1</td>\n",
       "      <td>0</td>\n",
       "      <td>0</td>\n",
       "      <td>...</td>\n",
       "      <td>72</td>\n",
       "      <td>42</td>\n",
       "      <td>37</td>\n",
       "      <td>8</td>\n",
       "      <td>43</td>\n",
       "      <td>51</td>\n",
       "      <td>34</td>\n",
       "      <td>25</td>\n",
       "      <td>25</td>\n",
       "      <td>56</td>\n",
       "    </tr>\n",
       "    <tr>\n",
       "      <th>100302278</th>\n",
       "      <td>1</td>\n",
       "      <td>0</td>\n",
       "      <td>0</td>\n",
       "      <td>0</td>\n",
       "      <td>0</td>\n",
       "      <td>0</td>\n",
       "      <td>0</td>\n",
       "      <td>0</td>\n",
       "      <td>0</td>\n",
       "      <td>0</td>\n",
       "      <td>...</td>\n",
       "      <td>15</td>\n",
       "      <td>9</td>\n",
       "      <td>15</td>\n",
       "      <td>0</td>\n",
       "      <td>13</td>\n",
       "      <td>15</td>\n",
       "      <td>9</td>\n",
       "      <td>4</td>\n",
       "      <td>5</td>\n",
       "      <td>22</td>\n",
       "    </tr>\n",
       "    <tr>\n",
       "      <th>...</th>\n",
       "      <td>...</td>\n",
       "      <td>...</td>\n",
       "      <td>...</td>\n",
       "      <td>...</td>\n",
       "      <td>...</td>\n",
       "      <td>...</td>\n",
       "      <td>...</td>\n",
       "      <td>...</td>\n",
       "      <td>...</td>\n",
       "      <td>...</td>\n",
       "      <td>...</td>\n",
       "      <td>...</td>\n",
       "      <td>...</td>\n",
       "      <td>...</td>\n",
       "      <td>...</td>\n",
       "      <td>...</td>\n",
       "      <td>...</td>\n",
       "      <td>...</td>\n",
       "      <td>...</td>\n",
       "      <td>...</td>\n",
       "      <td>...</td>\n",
       "    </tr>\n",
       "    <tr>\n",
       "      <th>4541</th>\n",
       "      <td>42755</td>\n",
       "      <td>54745</td>\n",
       "      <td>52320</td>\n",
       "      <td>35788</td>\n",
       "      <td>69678</td>\n",
       "      <td>116192</td>\n",
       "      <td>109529</td>\n",
       "      <td>92913</td>\n",
       "      <td>126024</td>\n",
       "      <td>134699</td>\n",
       "      <td>...</td>\n",
       "      <td>11494</td>\n",
       "      <td>2181</td>\n",
       "      <td>12772</td>\n",
       "      <td>5253</td>\n",
       "      <td>12971</td>\n",
       "      <td>23098</td>\n",
       "      <td>6288</td>\n",
       "      <td>2563</td>\n",
       "      <td>32</td>\n",
       "      <td>7161</td>\n",
       "    </tr>\n",
       "    <tr>\n",
       "      <th>4556</th>\n",
       "      <td>3197</td>\n",
       "      <td>3962</td>\n",
       "      <td>3713</td>\n",
       "      <td>2506</td>\n",
       "      <td>5280</td>\n",
       "      <td>8462</td>\n",
       "      <td>7623</td>\n",
       "      <td>6891</td>\n",
       "      <td>9739</td>\n",
       "      <td>9880</td>\n",
       "      <td>...</td>\n",
       "      <td>2209</td>\n",
       "      <td>394</td>\n",
       "      <td>2360</td>\n",
       "      <td>907</td>\n",
       "      <td>2548</td>\n",
       "      <td>4378</td>\n",
       "      <td>1186</td>\n",
       "      <td>434</td>\n",
       "      <td>6</td>\n",
       "      <td>1356</td>\n",
       "    </tr>\n",
       "    <tr>\n",
       "      <th>4519</th>\n",
       "      <td>47988</td>\n",
       "      <td>62818</td>\n",
       "      <td>90453</td>\n",
       "      <td>48160</td>\n",
       "      <td>113319</td>\n",
       "      <td>184066</td>\n",
       "      <td>197301</td>\n",
       "      <td>185516</td>\n",
       "      <td>198208</td>\n",
       "      <td>191482</td>\n",
       "      <td>...</td>\n",
       "      <td>30580</td>\n",
       "      <td>5560</td>\n",
       "      <td>34124</td>\n",
       "      <td>14561</td>\n",
       "      <td>36599</td>\n",
       "      <td>60310</td>\n",
       "      <td>15865</td>\n",
       "      <td>6509</td>\n",
       "      <td>115</td>\n",
       "      <td>17891</td>\n",
       "    </tr>\n",
       "    <tr>\n",
       "      <th>4576</th>\n",
       "      <td>185</td>\n",
       "      <td>233</td>\n",
       "      <td>250</td>\n",
       "      <td>268</td>\n",
       "      <td>486</td>\n",
       "      <td>690</td>\n",
       "      <td>835</td>\n",
       "      <td>848</td>\n",
       "      <td>591</td>\n",
       "      <td>472</td>\n",
       "      <td>...</td>\n",
       "      <td>4004</td>\n",
       "      <td>677</td>\n",
       "      <td>4344</td>\n",
       "      <td>1442</td>\n",
       "      <td>4623</td>\n",
       "      <td>7645</td>\n",
       "      <td>1279</td>\n",
       "      <td>367</td>\n",
       "      <td>14</td>\n",
       "      <td>1544</td>\n",
       "    </tr>\n",
       "    <tr>\n",
       "      <th>4571</th>\n",
       "      <td>1032</td>\n",
       "      <td>1415</td>\n",
       "      <td>2023</td>\n",
       "      <td>2164</td>\n",
       "      <td>1979</td>\n",
       "      <td>2907</td>\n",
       "      <td>4338</td>\n",
       "      <td>4541</td>\n",
       "      <td>4474</td>\n",
       "      <td>4090</td>\n",
       "      <td>...</td>\n",
       "      <td>2456</td>\n",
       "      <td>437</td>\n",
       "      <td>2793</td>\n",
       "      <td>969</td>\n",
       "      <td>2894</td>\n",
       "      <td>5229</td>\n",
       "      <td>813</td>\n",
       "      <td>298</td>\n",
       "      <td>6</td>\n",
       "      <td>906</td>\n",
       "    </tr>\n",
       "  </tbody>\n",
       "</table>\n",
       "<p>39376 rows × 46 columns</p>\n",
       "</div>"
      ],
      "text/plain": [
       "           GSM3019881  GSM3019882  GSM3019883  GSM3019884  GSM3019885  \\\n",
       "GeneID                                                                  \n",
       "100287102           9          11          15          12           7   \n",
       "653635           2625        2607        3592        3095        1491   \n",
       "102466751          52          47          85          60          46   \n",
       "107985730           0           1           0           0           1   \n",
       "100302278           1           0           0           0           0   \n",
       "...               ...         ...         ...         ...         ...   \n",
       "4541            42755       54745       52320       35788       69678   \n",
       "4556             3197        3962        3713        2506        5280   \n",
       "4519            47988       62818       90453       48160      113319   \n",
       "4576              185         233         250         268         486   \n",
       "4571             1032        1415        2023        2164        1979   \n",
       "\n",
       "           GSM3019886  GSM3019887  GSM3019888  GSM3019889  GSM3019890  ...  \\\n",
       "GeneID                                                                 ...   \n",
       "100287102           6           8           8           6           7  ...   \n",
       "653635           1649        1916        1750        2504        2230  ...   \n",
       "102466751          54          57          34          86          81  ...   \n",
       "107985730           0           1           1           0           0  ...   \n",
       "100302278           0           0           0           0           0  ...   \n",
       "...               ...         ...         ...         ...         ...  ...   \n",
       "4541           116192      109529       92913      126024      134699  ...   \n",
       "4556             8462        7623        6891        9739        9880  ...   \n",
       "4519           184066      197301      185516      198208      191482  ...   \n",
       "4576              690         835         848         591         472  ...   \n",
       "4571             2907        4338        4541        4474        4090  ...   \n",
       "\n",
       "           GSM3019919  GSM3019920  GSM3019921  GSM3019922  GSM3019923  \\\n",
       "GeneID                                                                  \n",
       "100287102          89          48          48           7          54   \n",
       "653635             87          42          70          23          51   \n",
       "102466751           5           3           2           1           2   \n",
       "107985730          72          42          37           8          43   \n",
       "100302278          15           9          15           0          13   \n",
       "...               ...         ...         ...         ...         ...   \n",
       "4541            11494        2181       12772        5253       12971   \n",
       "4556             2209         394        2360         907        2548   \n",
       "4519            30580        5560       34124       14561       36599   \n",
       "4576             4004         677        4344        1442        4623   \n",
       "4571             2456         437        2793         969        2894   \n",
       "\n",
       "           GSM3019924  GSM3019925  GSM3019926  GSM3019927  GSM3019928  \n",
       "GeneID                                                                 \n",
       "100287102         121          53          34          38         108  \n",
       "653635            114          74          66          45         112  \n",
       "102466751           3           1           3           1           5  \n",
       "107985730          51          34          25          25          56  \n",
       "100302278          15           9           4           5          22  \n",
       "...               ...         ...         ...         ...         ...  \n",
       "4541            23098        6288        2563          32        7161  \n",
       "4556             4378        1186         434           6        1356  \n",
       "4519            60310       15865        6509         115       17891  \n",
       "4576             7645        1279         367          14        1544  \n",
       "4571             5229         813         298           6         906  \n",
       "\n",
       "[39376 rows x 46 columns]"
      ]
     },
     "execution_count": 17,
     "metadata": {},
     "output_type": "execute_result"
    }
   ],
   "source": [
    "# Load raw counts\n",
    "data = pd.read_csv('../../data/SLE/GSE110999_raw_counts_GRCh38.p13_NCBI.tsv', sep='\\t', index_col=0)"
   ]
  },
  {
   "cell_type": "code",
   "execution_count": 18,
   "metadata": {},
   "outputs": [
    {
     "name": "stderr",
     "output_type": "stream",
     "text": [
      "/tmp/ipykernel_4402/1102602081.py:2: DtypeWarning: Columns (8,9) have mixed types. Specify dtype option on import or set low_memory=False.\n",
      "  annot = pd.read_csv('../../data/SLE/Human.GRCh38.p13.annot.tsv', sep='\\t')\n"
     ]
    }
   ],
   "source": [
    "# Load gene annotation and replace GeneIDs with gene symbols\n",
    "annot = pd.read_csv('../../data/SLE/Human.GRCh38.p13.annot.tsv', sep='\\t')\n",
    "data.index = annot['Symbol']"
   ]
  },
  {
   "cell_type": "code",
   "execution_count": 20,
   "metadata": {},
   "outputs": [
    {
     "name": "stderr",
     "output_type": "stream",
     "text": [
      "/home/lorna/miniconda3/envs/gretabench/lib/python3.10/site-packages/anndata/_core/anndata.py:1758: UserWarning: Variable names are not unique. To make them unique, call `.var_names_make_unique`.\n",
      "  utils.warn_names_duplicates(\"var\")\n"
     ]
    },
    {
     "data": {
      "text/plain": [
       "AnnData object with n_obs × n_vars = 46 × 39376"
      ]
     },
     "execution_count": 20,
     "metadata": {},
     "output_type": "execute_result"
    }
   ],
   "source": [
    "# Transform to AnnData object\n",
    "adata = ad.AnnData(data.T, dtype=np.float32)\n",
    "adata.var_names_make_unique()\n",
    "adata"
   ]
  },
  {
   "cell_type": "code",
   "execution_count": 10,
   "metadata": {},
   "outputs": [],
   "source": [
    "# Load metadata\n",
    "meta = pd.read_csv('../../data/SLE/metadata.txt', sep='\\t', index_col=0)\n",
    "adata.obs = meta"
   ]
  },
  {
   "cell_type": "code",
   "execution_count": 11,
   "metadata": {},
   "outputs": [],
   "source": [
    "SLE_adata = adata[adata.obs['group'].isin(['SLE'])].copy()"
   ]
  },
  {
   "cell_type": "code",
   "execution_count": 13,
   "metadata": {},
   "outputs": [
    {
     "data": {
      "text/plain": [
       "AnnData object with n_obs × n_vars = 16 × 39376\n",
       "    obs: 'group', 'subset'"
      ]
     },
     "execution_count": 13,
     "metadata": {},
     "output_type": "execute_result"
    }
   ],
   "source": [
    "SLE_adata"
   ]
  },
  {
   "cell_type": "code",
   "execution_count": 12,
   "metadata": {},
   "outputs": [
    {
     "data": {
      "image/png": "[encoded data removed]",
      "text/plain": [
       "<Figure size 500x400 with 2 Axes>"
      ]
     },
     "metadata": {
      "image/png": {
       "height": 375,
       "width": 494
      }
     },
     "output_type": "display_data"
    }
   ],
   "source": [
    "dc.plot_filter_by_expr(SLE_adata, group='subset', min_count=10, min_total_count=15, large_n=1, min_prop=1)"
   ]
  },
  {
   "cell_type": "code",
   "execution_count": 14,
   "metadata": {},
   "outputs": [
    {
     "data": {
      "text/plain": [
       "AnnData object with n_obs × n_vars = 16 × 19388\n",
       "    obs: 'group', 'subset'"
      ]
     },
     "execution_count": 14,
     "metadata": {},
     "output_type": "execute_result"
    }
   ],
   "source": [
    "# Obtain genes that pass the thresholds\n",
    "genes = dc.filter_by_expr(SLE_adata, group='subset', min_count=10, min_total_count=15, large_n=1, min_prop=1)\n",
    "\n",
    "# Filter by these genes\n",
    "SLE_adata = SLE_adata[:, genes].copy()\n",
    "SLE_adata"
   ]
  },
  {
   "cell_type": "code",
   "execution_count": 15,
   "metadata": {},
   "outputs": [],
   "source": [
    "SLE_adata.write('../../data/SLE/SLE_adata_prc.h5ad')"
   ]
  },
  {
   "cell_type": "code",
   "execution_count": 13,
   "metadata": {},
   "outputs": [],
   "source": [
    "# Build DESeq2 object\n",
    "inference = DefaultInference(n_cpus=8)\n",
    "dds = DeseqDataSet(\n",
    "    adata=SLE_adata,\n",
    "    design='~subset',\n",
    "    refit_cooks=True,\n",
    "    inference=inference,\n",
    ")"
   ]
  },
  {
   "cell_type": "code",
   "execution_count": 14,
   "metadata": {},
   "outputs": [
    {
     "name": "stdout",
     "output_type": "stream",
     "text": [
      "Using None as control genes, passed at DeseqDataSet initialization\n"
     ]
    },
    {
     "name": "stderr",
     "output_type": "stream",
     "text": [
      "Fitting size factors...\n",
      "... done in 0.03 seconds.\n",
      "\n",
      "Fitting dispersions...\n",
      "... done in 13.03 seconds.\n",
      "\n",
      "Fitting dispersion trend curve...\n",
      "... done in 2.23 seconds.\n",
      "\n",
      "Fitting MAP dispersions...\n",
      "... done in 13.76 seconds.\n",
      "\n",
      "Fitting LFCs...\n",
      "... done in 5.83 seconds.\n",
      "\n",
      "Calculating cook's distance...\n",
      "... done in 0.05 seconds.\n",
      "\n",
      "Replacing 0 outlier genes.\n",
      "\n"
     ]
    }
   ],
   "source": [
    "# Compute LFCs\n",
    "dds.deseq2()"
   ]
  },
  {
   "cell_type": "code",
   "execution_count": 81,
   "metadata": {},
   "outputs": [],
   "source": [
    "# Extract contrast between CD11chi_IgDpos vs memory_B cells\n",
    "stat_res_mem = DeseqStats(\n",
    "    dds,\n",
    "    contrast=[\"subset\", 'CD11chi_IgDpos', 'memory_B'],\n",
    "    inference=inference\n",
    ")\n",
    "\n",
    "# Compute Wald test\n",
    "stat_res_mem.summary()\n",
    "\n",
    "# Extract results\n",
    "results_mem = stat_res_mem.results_df\n",
    "\n",
    "# Filter results\n",
    "filtered_mem = results_mem[results_mem['log2FoldChange'].abs() > 2]\n",
    "filtered_mem = filtered_mem[filtered_res['padj'] < 0.05]\n",
    "filtered_mem = filtered_mem.sort_values('log2FoldChange')\n",
    "\n",
    "CD11_a = filtered_mem.head(n=100).index\n",
    "mem = filtered_mem.tail(n=100).index"
   ]
  },
  {
   "cell_type": "code",
   "execution_count": null,
   "metadata": {},
   "outputs": [],
   "source": [
    "# Extract contrast between CD11chi_IgDpos vs memory_B cells\n",
    "stat_res_mem = DeseqStats(\n",
    "    dds,\n",
    "    contrast=[\"subset\", 'CD11chi_IgDpos', 'naive_B'],\n",
    "    inference=inference\n",
    ")\n",
    "\n",
    "# Compute Wald test\n",
    "stat_res_naive.summary()\n",
    "\n",
    "# Extract results\n",
    "results_naive = stat_res_naive.results_df\n",
    "\n",
    "# Filter results\n",
    "filtered_naive = results_naive[results_naive['log2FoldChange'].abs() > 2]\n",
    "filtered_naive = filtered_naive[filtered_naive['padj'] < 0.05]\n",
    "filtered_naive = filtered_naive.sort_values('log2FoldChange')\n",
    "\n",
    "CD11_b = filtered_naive.head(n=100).index\n",
    "naive = filtered_naive.tail(n=100).index"
   ]
  },
  {
   "cell_type": "code",
   "execution_count": 89,
   "metadata": {},
   "outputs": [],
   "source": [
    "CD11 = list(set(CD11_a).union(set(CD11_b)))"
   ]
  },
  {
   "cell_type": "code",
   "execution_count": null,
   "metadata": {},
   "outputs": [],
   "source": [
    "DEGs_SLE = CD11 + mem + naive"
   ]
  },
  {
   "cell_type": "code",
   "execution_count": 68,
   "metadata": {},
   "outputs": [],
   "source": [
    "pd.Series(SLE_adata.var_names).to_csv('../../data/SLE/SLE_genes.txt', index=False, header=False)"
   ]
  },
  {
   "cell_type": "markdown",
   "metadata": {},
   "source": [
    "## T Cell Exhaustion"
   ]
  },
  {
   "cell_type": "code",
   "execution_count": 62,
   "metadata": {},
   "outputs": [],
   "source": [
    "S401 = pd.read_csv('../../data/Tcell_exhaustion/data/GSM3897743_R_OK_S401_RNA_counts.txt', sep='\\t', index_col=0, header=None)\n",
    "S402 = pd.read_csv('../../data/Tcell_exhaustion/data/GSM3897744_R_OK_S402_RNA_counts.txt', sep='\\t', index_col=0, header=None)\n",
    "S403 = pd.read_csv('../../data/Tcell_exhaustion/data/GSM3897745_R_OK_S403_RNA_counts.txt', sep='\\t', index_col=0, header=None)\n",
    "S404 = pd.read_csv('../../data/Tcell_exhaustion/data/GSM3897746_R_OK_S404_RNA_counts.txt', sep='\\t', index_col=0, header=None)\n",
    "S405 = pd.read_csv('../../data/Tcell_exhaustion/data/GSM3897747_R_OK_S405_RNA_counts.txt', sep='\\t', index_col=0, header=None)\n",
    "S406 = pd.read_csv('../../data/Tcell_exhaustion/data/GSM3897748_R_OK_S406_RNA_counts.txt', sep='\\t', index_col=0, header=None)\n"
   ]
  },
  {
   "cell_type": "code",
   "execution_count": 63,
   "metadata": {},
   "outputs": [],
   "source": [
    "# Reformatting input data\n",
    "data = pd.concat([S401, S402, S403, S404, S405, S406], axis=1)\n",
    "data.columns = ['S401', 'S402', 'S403', 'S404', 'S405', 'S406']\n",
    "data.index.name = 'gene'"
   ]
  },
  {
   "cell_type": "code",
   "execution_count": 85,
   "metadata": {},
   "outputs": [
    {
     "name": "stderr",
     "output_type": "stream",
     "text": [
      "/home/lorna/miniconda3/envs/gretabench/lib/python3.10/site-packages/anndata/_core/anndata.py:1758: UserWarning: Variable names are not unique. To make them unique, call `.var_names_make_unique`.\n",
      "  utils.warn_names_duplicates(\"var\")\n"
     ]
    },
    {
     "data": {
      "text/plain": [
       "AnnData object with n_obs × n_vars = 6 × 19675"
      ]
     },
     "execution_count": 85,
     "metadata": {},
     "output_type": "execute_result"
    }
   ],
   "source": [
    "# Transform to AnnData object\n",
    "adata = ad.AnnData(data.T, dtype=np.float32)\n",
    "adata.var_names_make_unique()\n",
    "adata"
   ]
  },
  {
   "cell_type": "code",
   "execution_count": 72,
   "metadata": {},
   "outputs": [],
   "source": [
    "meta = pd.read_csv('../../data/Tcell_exhaustion/metadata.txt', sep='\\t', index_col=0)\n",
    "adata.obs = meta"
   ]
  },
  {
   "cell_type": "code",
   "execution_count": 76,
   "metadata": {},
   "outputs": [
    {
     "data": {
      "image/png": "[encoded data removed]",
      "text/plain": [
       "<Figure size 500x400 with 2 Axes>"
      ]
     },
     "metadata": {
      "image/png": {
       "height": 377,
       "width": 493
      }
     },
     "output_type": "display_data"
    }
   ],
   "source": [
    "dc.plot_filter_by_expr(adata, group='group', min_count=10, min_total_count=15, large_n=1, min_prop=1)"
   ]
  },
  {
   "cell_type": "code",
   "execution_count": 87,
   "metadata": {},
   "outputs": [
    {
     "data": {
      "text/plain": [
       "AnnData object with n_obs × n_vars = 6 × 11740\n",
       "    obs: 'group'"
      ]
     },
     "execution_count": 87,
     "metadata": {},
     "output_type": "execute_result"
    }
   ],
   "source": [
    "# Obtain genes that pass the thresholds\n",
    "genes = dc.filter_by_expr(adata, group='group', min_count=10, min_total_count=15, large_n=1, min_prop=1)\n",
    "\n",
    "# Filter by these genes\n",
    "adata = adata[:, genes].copy()\n",
    "adata"
   ]
  },
  {
   "cell_type": "code",
   "execution_count": 88,
   "metadata": {},
   "outputs": [],
   "source": [
    "adata.write('../../data/Tcell_exhaustion/adata_prc.h5ad')"
   ]
  },
  {
   "cell_type": "code",
   "execution_count": 4,
   "metadata": {},
   "outputs": [],
   "source": [
    "# Build DESeq2 object\n",
    "inference = DefaultInference(n_cpus=8)\n",
    "dds = DeseqDataSet(\n",
    "    adata=adata,\n",
    "    design='group',\n",
    "    refit_cooks=True,\n",
    "    inference=inference,\n",
    ")"
   ]
  },
  {
   "cell_type": "code",
   "execution_count": 5,
   "metadata": {},
   "outputs": [
    {
     "name": "stdout",
     "output_type": "stream",
     "text": [
      "Using None as control genes, passed at DeseqDataSet initialization\n"
     ]
    },
    {
     "name": "stderr",
     "output_type": "stream",
     "text": [
      "Fitting size factors...\n",
      "... done in 0.01 seconds.\n",
      "\n"
     ]
    },
    {
     "name": "stderr",
     "output_type": "stream",
     "text": [
      "Fitting dispersions...\n",
      "... done in 7.55 seconds.\n",
      "\n",
      "Fitting dispersion trend curve...\n",
      "... done in 1.84 seconds.\n",
      "\n",
      "Fitting MAP dispersions...\n",
      "... done in 6.50 seconds.\n",
      "\n",
      "Fitting LFCs...\n",
      "... done in 3.07 seconds.\n",
      "\n",
      "Calculating cook's distance...\n",
      "... done in 0.02 seconds.\n",
      "\n",
      "Replacing 0 outlier genes.\n",
      "\n"
     ]
    }
   ],
   "source": [
    "dds.deseq2()"
   ]
  },
  {
   "cell_type": "code",
   "execution_count": 6,
   "metadata": {},
   "outputs": [],
   "source": [
    "# Extract contrast between ko vs wt\n",
    "stat_res = DeseqStats(\n",
    "    dds,\n",
    "    contrast=[\"group\", 'ko', 'wt'],\n",
    "    inference=inference\n",
    ")"
   ]
  },
  {
   "cell_type": "code",
   "execution_count": 7,
   "metadata": {},
   "outputs": [
    {
     "name": "stderr",
     "output_type": "stream",
     "text": [
      "Running Wald tests...\n",
      "... done in 2.00 seconds.\n",
      "\n"
     ]
    },
    {
     "name": "stdout",
     "output_type": "stream",
     "text": [
      "Log2 fold change & Wald test p-value: group ko vs wt\n",
      "                  baseMean  log2FoldChange     lfcSE      stat    pvalue  \\\n",
      "gene                                                                       \n",
      "Gnai3          1731.982426        0.100040  0.068055  1.469985  0.141566   \n",
      "Cdc45           122.531105       -0.673255  0.204322 -3.295070  0.000984   \n",
      "Narf            301.119873        0.059882  0.129535  0.462281  0.643880   \n",
      "Cav2              9.642843        0.643032  0.634714  1.013106  0.311009   \n",
      "Klf6           3553.662858        0.321621  0.203318  1.581865  0.113680   \n",
      "...                    ...             ...       ...       ...       ...   \n",
      "RP23-7L11.5      78.218873       -0.002254  0.231561 -0.009736  0.992232   \n",
      "RP24-344N22.4   145.465228        0.336973  0.197030  1.710263  0.087217   \n",
      "Nup62           622.085148       -0.261706  0.096367 -2.715727  0.006613   \n",
      "RP24-439I22.3    18.794268        0.321718  0.440640  0.730116  0.465320   \n",
      "RP23-413C19.2    60.751182        0.558350  0.265124  2.105992  0.035205   \n",
      "\n",
      "                   padj  \n",
      "gene                     \n",
      "Gnai3          0.413562  \n",
      "Cdc45          0.013309  \n",
      "Narf           0.854721  \n",
      "Cav2           0.628226  \n",
      "Klf6           0.366248  \n",
      "...                 ...  \n",
      "RP23-7L11.5    0.997324  \n",
      "RP24-344N22.4  0.313129  \n",
      "Nup62          0.056628  \n",
      "RP24-439I22.3  0.747517  \n",
      "RP23-413C19.2  0.178689  \n",
      "\n",
      "[11740 rows x 6 columns]\n"
     ]
    }
   ],
   "source": [
    "# Compute Wald test\n",
    "stat_res.summary()"
   ]
  },
  {
   "cell_type": "code",
   "execution_count": 8,
   "metadata": {},
   "outputs": [
    {
     "data": {
      "text/html": [
       "<div>\n",
       "<style scoped>\n",
       "    .dataframe tbody tr th:only-of-type {\n",
       "        vertical-align: middle;\n",
       "    }\n",
       "\n",
       "    .dataframe tbody tr th {\n",
       "        vertical-align: top;\n",
       "    }\n",
       "\n",
       "    .dataframe thead th {\n",
       "        text-align: right;\n",
       "    }\n",
       "</style>\n",
       "<table border=\"1\" class=\"dataframe\">\n",
       "  <thead>\n",
       "    <tr style=\"text-align: right;\">\n",
       "      <th></th>\n",
       "      <th>baseMean</th>\n",
       "      <th>log2FoldChange</th>\n",
       "      <th>lfcSE</th>\n",
       "      <th>stat</th>\n",
       "      <th>pvalue</th>\n",
       "      <th>padj</th>\n",
       "    </tr>\n",
       "    <tr>\n",
       "      <th>gene</th>\n",
       "      <th></th>\n",
       "      <th></th>\n",
       "      <th></th>\n",
       "      <th></th>\n",
       "      <th></th>\n",
       "      <th></th>\n",
       "    </tr>\n",
       "  </thead>\n",
       "  <tbody>\n",
       "    <tr>\n",
       "      <th>Gnai3</th>\n",
       "      <td>1731.982426</td>\n",
       "      <td>0.100040</td>\n",
       "      <td>0.068055</td>\n",
       "      <td>1.469985</td>\n",
       "      <td>0.141566</td>\n",
       "      <td>0.413562</td>\n",
       "    </tr>\n",
       "    <tr>\n",
       "      <th>Cdc45</th>\n",
       "      <td>122.531105</td>\n",
       "      <td>-0.673255</td>\n",
       "      <td>0.204322</td>\n",
       "      <td>-3.295070</td>\n",
       "      <td>0.000984</td>\n",
       "      <td>0.013309</td>\n",
       "    </tr>\n",
       "    <tr>\n",
       "      <th>Narf</th>\n",
       "      <td>301.119873</td>\n",
       "      <td>0.059882</td>\n",
       "      <td>0.129535</td>\n",
       "      <td>0.462281</td>\n",
       "      <td>0.643880</td>\n",
       "      <td>0.854721</td>\n",
       "    </tr>\n",
       "    <tr>\n",
       "      <th>Cav2</th>\n",
       "      <td>9.642843</td>\n",
       "      <td>0.643032</td>\n",
       "      <td>0.634714</td>\n",
       "      <td>1.013106</td>\n",
       "      <td>0.311009</td>\n",
       "      <td>0.628226</td>\n",
       "    </tr>\n",
       "    <tr>\n",
       "      <th>Klf6</th>\n",
       "      <td>3553.662858</td>\n",
       "      <td>0.321621</td>\n",
       "      <td>0.203318</td>\n",
       "      <td>1.581865</td>\n",
       "      <td>0.113680</td>\n",
       "      <td>0.366248</td>\n",
       "    </tr>\n",
       "    <tr>\n",
       "      <th>...</th>\n",
       "      <td>...</td>\n",
       "      <td>...</td>\n",
       "      <td>...</td>\n",
       "      <td>...</td>\n",
       "      <td>...</td>\n",
       "      <td>...</td>\n",
       "    </tr>\n",
       "    <tr>\n",
       "      <th>RP23-7L11.5</th>\n",
       "      <td>78.218873</td>\n",
       "      <td>-0.002254</td>\n",
       "      <td>0.231561</td>\n",
       "      <td>-0.009736</td>\n",
       "      <td>0.992232</td>\n",
       "      <td>0.997324</td>\n",
       "    </tr>\n",
       "    <tr>\n",
       "      <th>RP24-344N22.4</th>\n",
       "      <td>145.465228</td>\n",
       "      <td>0.336973</td>\n",
       "      <td>0.197030</td>\n",
       "      <td>1.710263</td>\n",
       "      <td>0.087217</td>\n",
       "      <td>0.313129</td>\n",
       "    </tr>\n",
       "    <tr>\n",
       "      <th>Nup62</th>\n",
       "      <td>622.085148</td>\n",
       "      <td>-0.261706</td>\n",
       "      <td>0.096367</td>\n",
       "      <td>-2.715727</td>\n",
       "      <td>0.006613</td>\n",
       "      <td>0.056628</td>\n",
       "    </tr>\n",
       "    <tr>\n",
       "      <th>RP24-439I22.3</th>\n",
       "      <td>18.794268</td>\n",
       "      <td>0.321718</td>\n",
       "      <td>0.440640</td>\n",
       "      <td>0.730116</td>\n",
       "      <td>0.465320</td>\n",
       "      <td>0.747517</td>\n",
       "    </tr>\n",
       "    <tr>\n",
       "      <th>RP23-413C19.2</th>\n",
       "      <td>60.751182</td>\n",
       "      <td>0.558350</td>\n",
       "      <td>0.265124</td>\n",
       "      <td>2.105992</td>\n",
       "      <td>0.035205</td>\n",
       "      <td>0.178689</td>\n",
       "    </tr>\n",
       "  </tbody>\n",
       "</table>\n",
       "<p>11740 rows × 6 columns</p>\n",
       "</div>"
      ],
      "text/plain": [
       "                  baseMean  log2FoldChange     lfcSE      stat    pvalue  \\\n",
       "gene                                                                       \n",
       "Gnai3          1731.982426        0.100040  0.068055  1.469985  0.141566   \n",
       "Cdc45           122.531105       -0.673255  0.204322 -3.295070  0.000984   \n",
       "Narf            301.119873        0.059882  0.129535  0.462281  0.643880   \n",
       "Cav2              9.642843        0.643032  0.634714  1.013106  0.311009   \n",
       "Klf6           3553.662858        0.321621  0.203318  1.581865  0.113680   \n",
       "...                    ...             ...       ...       ...       ...   \n",
       "RP23-7L11.5      78.218873       -0.002254  0.231561 -0.009736  0.992232   \n",
       "RP24-344N22.4   145.465228        0.336973  0.197030  1.710263  0.087217   \n",
       "Nup62           622.085148       -0.261706  0.096367 -2.715727  0.006613   \n",
       "RP24-439I22.3    18.794268        0.321718  0.440640  0.730116  0.465320   \n",
       "RP23-413C19.2    60.751182        0.558350  0.265124  2.105992  0.035205   \n",
       "\n",
       "                   padj  \n",
       "gene                     \n",
       "Gnai3          0.413562  \n",
       "Cdc45          0.013309  \n",
       "Narf           0.854721  \n",
       "Cav2           0.628226  \n",
       "Klf6           0.366248  \n",
       "...                 ...  \n",
       "RP23-7L11.5    0.997324  \n",
       "RP24-344N22.4  0.313129  \n",
       "Nup62          0.056628  \n",
       "RP24-439I22.3  0.747517  \n",
       "RP23-413C19.2  0.178689  \n",
       "\n",
       "[11740 rows x 6 columns]"
      ]
     },
     "execution_count": 8,
     "metadata": {},
     "output_type": "execute_result"
    }
   ],
   "source": [
    "results_df = stat_res.results_df\n",
    "results_df"
   ]
  },
  {
   "cell_type": "code",
   "execution_count": 9,
   "metadata": {},
   "outputs": [],
   "source": [
    "results_df.to_csv('../../data/Tcell_exhaustion/Deseq2_results_ko.tsv', sep='\\t')"
   ]
  },
  {
   "cell_type": "code",
   "execution_count": 10,
   "metadata": {},
   "outputs": [
    {
     "data": {
      "text/html": [
       "<div>\n",
       "<style scoped>\n",
       "    .dataframe tbody tr th:only-of-type {\n",
       "        vertical-align: middle;\n",
       "    }\n",
       "\n",
       "    .dataframe tbody tr th {\n",
       "        vertical-align: top;\n",
       "    }\n",
       "\n",
       "    .dataframe thead th {\n",
       "        text-align: right;\n",
       "    }\n",
       "</style>\n",
       "<table border=\"1\" class=\"dataframe\">\n",
       "  <thead>\n",
       "    <tr style=\"text-align: right;\">\n",
       "      <th></th>\n",
       "      <th>baseMean</th>\n",
       "      <th>log2FoldChange</th>\n",
       "      <th>lfcSE</th>\n",
       "      <th>stat</th>\n",
       "      <th>pvalue</th>\n",
       "      <th>padj</th>\n",
       "    </tr>\n",
       "    <tr>\n",
       "      <th>gene</th>\n",
       "      <th></th>\n",
       "      <th></th>\n",
       "      <th></th>\n",
       "      <th></th>\n",
       "      <th></th>\n",
       "      <th></th>\n",
       "    </tr>\n",
       "  </thead>\n",
       "  <tbody>\n",
       "    <tr>\n",
       "      <th>Cdc45</th>\n",
       "      <td>122.531105</td>\n",
       "      <td>-0.673255</td>\n",
       "      <td>0.204322</td>\n",
       "      <td>-3.295070</td>\n",
       "      <td>9.839707e-04</td>\n",
       "      <td>1.330854e-02</td>\n",
       "    </tr>\n",
       "    <tr>\n",
       "      <th>Scpep1</th>\n",
       "      <td>236.371669</td>\n",
       "      <td>-0.420221</td>\n",
       "      <td>0.138757</td>\n",
       "      <td>-3.028465</td>\n",
       "      <td>2.457995e-03</td>\n",
       "      <td>2.704486e-02</td>\n",
       "    </tr>\n",
       "    <tr>\n",
       "      <th>Itgb2</th>\n",
       "      <td>7911.954558</td>\n",
       "      <td>0.428782</td>\n",
       "      <td>0.065859</td>\n",
       "      <td>6.510591</td>\n",
       "      <td>7.485560e-11</td>\n",
       "      <td>7.447498e-09</td>\n",
       "    </tr>\n",
       "    <tr>\n",
       "      <th>Raf1</th>\n",
       "      <td>1391.219811</td>\n",
       "      <td>-0.228323</td>\n",
       "      <td>0.080197</td>\n",
       "      <td>-2.847022</td>\n",
       "      <td>4.413032e-03</td>\n",
       "      <td>4.168061e-02</td>\n",
       "    </tr>\n",
       "    <tr>\n",
       "      <th>Pdgfb</th>\n",
       "      <td>145.434587</td>\n",
       "      <td>0.512095</td>\n",
       "      <td>0.168498</td>\n",
       "      <td>3.039181</td>\n",
       "      <td>2.372225e-03</td>\n",
       "      <td>2.644817e-02</td>\n",
       "    </tr>\n",
       "    <tr>\n",
       "      <th>...</th>\n",
       "      <td>...</td>\n",
       "      <td>...</td>\n",
       "      <td>...</td>\n",
       "      <td>...</td>\n",
       "      <td>...</td>\n",
       "      <td>...</td>\n",
       "    </tr>\n",
       "    <tr>\n",
       "      <th>4930417O13Rik</th>\n",
       "      <td>87.675355</td>\n",
       "      <td>-0.672628</td>\n",
       "      <td>0.229256</td>\n",
       "      <td>-2.933957</td>\n",
       "      <td>3.346706e-03</td>\n",
       "      <td>3.387097e-02</td>\n",
       "    </tr>\n",
       "    <tr>\n",
       "      <th>RP23-361O12.4</th>\n",
       "      <td>136.984007</td>\n",
       "      <td>0.552113</td>\n",
       "      <td>0.179462</td>\n",
       "      <td>3.076487</td>\n",
       "      <td>2.094555e-03</td>\n",
       "      <td>2.395267e-02</td>\n",
       "    </tr>\n",
       "    <tr>\n",
       "      <th>RP24-178G20.2</th>\n",
       "      <td>124.831930</td>\n",
       "      <td>0.521425</td>\n",
       "      <td>0.187170</td>\n",
       "      <td>2.785841</td>\n",
       "      <td>5.338907e-03</td>\n",
       "      <td>4.810343e-02</td>\n",
       "    </tr>\n",
       "    <tr>\n",
       "      <th>RP23-423B21.6</th>\n",
       "      <td>13.078998</td>\n",
       "      <td>2.236206</td>\n",
       "      <td>0.636108</td>\n",
       "      <td>3.515452</td>\n",
       "      <td>4.390065e-04</td>\n",
       "      <td>6.890289e-03</td>\n",
       "    </tr>\n",
       "    <tr>\n",
       "      <th>RP23-264H19.2</th>\n",
       "      <td>44.819049</td>\n",
       "      <td>0.819427</td>\n",
       "      <td>0.293424</td>\n",
       "      <td>2.792638</td>\n",
       "      <td>5.228012e-03</td>\n",
       "      <td>4.739526e-02</td>\n",
       "    </tr>\n",
       "  </tbody>\n",
       "</table>\n",
       "<p>1316 rows × 6 columns</p>\n",
       "</div>"
      ],
      "text/plain": [
       "                  baseMean  log2FoldChange     lfcSE      stat        pvalue  \\\n",
       "gene                                                                           \n",
       "Cdc45           122.531105       -0.673255  0.204322 -3.295070  9.839707e-04   \n",
       "Scpep1          236.371669       -0.420221  0.138757 -3.028465  2.457995e-03   \n",
       "Itgb2          7911.954558        0.428782  0.065859  6.510591  7.485560e-11   \n",
       "Raf1           1391.219811       -0.228323  0.080197 -2.847022  4.413032e-03   \n",
       "Pdgfb           145.434587        0.512095  0.168498  3.039181  2.372225e-03   \n",
       "...                    ...             ...       ...       ...           ...   \n",
       "4930417O13Rik    87.675355       -0.672628  0.229256 -2.933957  3.346706e-03   \n",
       "RP23-361O12.4   136.984007        0.552113  0.179462  3.076487  2.094555e-03   \n",
       "RP24-178G20.2   124.831930        0.521425  0.187170  2.785841  5.338907e-03   \n",
       "RP23-423B21.6    13.078998        2.236206  0.636108  3.515452  4.390065e-04   \n",
       "RP23-264H19.2    44.819049        0.819427  0.293424  2.792638  5.228012e-03   \n",
       "\n",
       "                       padj  \n",
       "gene                         \n",
       "Cdc45          1.330854e-02  \n",
       "Scpep1         2.704486e-02  \n",
       "Itgb2          7.447498e-09  \n",
       "Raf1           4.168061e-02  \n",
       "Pdgfb          2.644817e-02  \n",
       "...                     ...  \n",
       "4930417O13Rik  3.387097e-02  \n",
       "RP23-361O12.4  2.395267e-02  \n",
       "RP24-178G20.2  4.810343e-02  \n",
       "RP23-423B21.6  6.890289e-03  \n",
       "RP23-264H19.2  4.739526e-02  \n",
       "\n",
       "[1316 rows x 6 columns]"
      ]
     },
     "execution_count": 10,
     "metadata": {},
     "output_type": "execute_result"
    }
   ],
   "source": [
    "filtered_res = results_df[results_df['padj'] < 0.05]\n",
    "filtered_res"
   ]
  },
  {
   "cell_type": "code",
   "execution_count": 95,
   "metadata": {},
   "outputs": [],
   "source": [
    "pd.Series(filtered_res.index).to_csv('../../data/Tcell_exhaustion/DEGs_ko.txt', index=False, header=False)\n",
    "pd.Series(results_df.index).to_csv('../../data/Tcell_exhaustion/genes.txt', index=False, header=False)"
   ]
  }
 ],
 "metadata": {
  "kernelspec": {
   "display_name": "gretabench",
   "language": "python",
   "name": "gretabench"
  },
  "language_info": {
   "codemirror_mode": {
    "name": "ipython",
    "version": 3
   },
   "file_extension": ".py",
   "mimetype": "text/x-python",
   "name": "python",
   "nbconvert_exporter": "python",
   "pygments_lexer": "ipython3",
   "version": "3.10.14"
  }
 },
 "nbformat": 4,
 "nbformat_minor": 2
}
